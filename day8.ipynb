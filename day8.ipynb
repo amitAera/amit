{
  "nbformat": 4,
  "nbformat_minor": 0,
  "metadata": {
    "colab": {
      "name": "day8.ipynb",
      "provenance": [],
      "authorship_tag": "ABX9TyNOQ95SCP3ha3wMwDE0nv+X",
      "include_colab_link": true
    },
    "kernelspec": {
      "name": "python3",
      "display_name": "Python 3"
    },
    "language_info": {
      "name": "python"
    }
  },
  "cells": [
    {
      "cell_type": "markdown",
      "metadata": {
        "id": "view-in-github",
        "colab_type": "text"
      },
      "source": [
        "<a href=\"https://colab.research.google.com/github/amitAera/amit/blob/main/day8.ipynb\" target=\"_parent\"><img src=\"https://colab.research.google.com/assets/colab-badge.svg\" alt=\"Open In Colab\"/></a>"
      ]
    },
    {
      "cell_type": "code",
      "metadata": {
        "colab": {
          "base_uri": "https://localhost:8080/"
        },
        "id": "2F1KZmsiqc6Z",
        "outputId": "3cb6b0af-b5d2-4862-9a1e-530197591c6c"
      },
      "source": [
        "sum=0\n",
        "a=int(input('enter number'))\n",
        "for i in range(1,a+1):\n",
        "  sum=(sum+i)\n",
        "sum\n"
      ],
      "execution_count": 11,
      "outputs": [
        {
          "output_type": "stream",
          "text": [
            "enter number4\n"
          ],
          "name": "stdout"
        },
        {
          "output_type": "execute_result",
          "data": {
            "text/plain": [
              "10"
            ]
          },
          "metadata": {
            "tags": []
          },
          "execution_count": 11
        }
      ]
    },
    {
      "cell_type": "code",
      "metadata": {
        "colab": {
          "base_uri": "https://localhost:8080/"
        },
        "id": "Y23zGT4VtqmO",
        "outputId": "5e137176-e128-48a7-ada5-7fbf02cf28e9"
      },
      "source": [
        "fact=1\n",
        "a=int(input('enter number'))\n",
        "for i in range(a,0,-1):\n",
        "  fact=(fact*i)\n",
        "fact  "
      ],
      "execution_count": 15,
      "outputs": [
        {
          "output_type": "stream",
          "text": [
            "enter number4\n"
          ],
          "name": "stdout"
        },
        {
          "output_type": "execute_result",
          "data": {
            "text/plain": [
              "24"
            ]
          },
          "metadata": {
            "tags": []
          },
          "execution_count": 15
        }
      ]
    },
    {
      "cell_type": "markdown",
      "metadata": {
        "id": "fZwpyBC5yIan"
      },
      "source": [
        "since  -1  3rd no. hai ishliye -1 hote jaaega due to 3rd no. bydefault value +1 hota hai   ishliye 4,4-1=3,3-1=2,2-1=1"
      ]
    },
    {
      "cell_type": "code",
      "metadata": {
        "colab": {
          "base_uri": "https://localhost:8080/"
        },
        "id": "bn_ngUVFvxbg",
        "outputId": "68f8b5e6-98ed-485b-f3ef-2ef9af5b2af3"
      },
      "source": [
        "#2nd metdod\n",
        "a=int(input('Enter a number : '))\n",
        "fact=1\n",
        "for i in range(1,a+1):\n",
        "  fact*=i   #fact=(fact*i)\n",
        "fact"
      ],
      "execution_count": 17,
      "outputs": [
        {
          "output_type": "stream",
          "text": [
            "Enter a number : 5\n"
          ],
          "name": "stdout"
        },
        {
          "output_type": "execute_result",
          "data": {
            "text/plain": [
              "120"
            ]
          },
          "metadata": {
            "tags": []
          },
          "execution_count": 17
        }
      ]
    },
    {
      "cell_type": "code",
      "metadata": {
        "colab": {
          "base_uri": "https://localhost:8080/"
        },
        "id": "VBR0j9ItzUab",
        "outputId": "b616c320-8694-40cb-dabe-deaaebd91122"
      },
      "source": [
        "mst = [1, 3.14, 'hi']\n",
        "\n",
        "for i in mst:\n",
        "  print(i)"
      ],
      "execution_count": 19,
      "outputs": [
        {
          "output_type": "stream",
          "text": [
            "1\n",
            "3.14\n",
            "hi\n"
          ],
          "name": "stdout"
        }
      ]
    },
    {
      "cell_type": "code",
      "metadata": {
        "colab": {
          "base_uri": "https://localhost:8080/"
        },
        "id": "50mxz4Kvzgkq",
        "outputId": "d6e20c8d-2de5-497f-805e-f7cf712d9fc2"
      },
      "source": [
        "mst[0]"
      ],
      "execution_count": 20,
      "outputs": [
        {
          "output_type": "execute_result",
          "data": {
            "text/plain": [
              "1"
            ]
          },
          "metadata": {
            "tags": []
          },
          "execution_count": 20
        }
      ]
    },
    {
      "cell_type": "code",
      "metadata": {
        "colab": {
          "base_uri": "https://localhost:8080/"
        },
        "id": "R237eYNQ0xiO",
        "outputId": "4a662b90-a1dc-4c6f-b750-4362e094a47f"
      },
      "source": [
        "list(range(1,11))"
      ],
      "execution_count": 62,
      "outputs": [
        {
          "output_type": "execute_result",
          "data": {
            "text/plain": [
              "[1, 2, 3, 4, 5, 6, 7, 8, 9, 10]"
            ]
          },
          "metadata": {
            "tags": []
          },
          "execution_count": 62
        }
      ]
    },
    {
      "cell_type": "code",
      "metadata": {
        "colab": {
          "base_uri": "https://localhost:8080/"
        },
        "id": "OxsFudwJ54Ur",
        "outputId": "ae665db5-a288-48b7-984a-0700469b1bdb"
      },
      "source": [
        "list(range(1,13))"
      ],
      "execution_count": 67,
      "outputs": [
        {
          "output_type": "execute_result",
          "data": {
            "text/plain": [
              "[1, 2, 3, 4, 5, 6, 7, 8, 9, 10, 11, 12]"
            ]
          },
          "metadata": {
            "tags": []
          },
          "execution_count": 67
        }
      ]
    },
    {
      "cell_type": "code",
      "metadata": {
        "id": "MosTMlxq06MP"
      },
      "source": [
        "x=9\n",
        "y=4\n",
        "z=2"
      ],
      "execution_count": 35,
      "outputs": []
    },
    {
      "cell_type": "code",
      "metadata": {
        "colab": {
          "base_uri": "https://localhost:8080/"
        },
        "id": "1q9XkfQr1JJV",
        "outputId": "c131b228-80f9-43ba-d3ee-2d757095408a"
      },
      "source": [
        "x==9"
      ],
      "execution_count": 36,
      "outputs": [
        {
          "output_type": "execute_result",
          "data": {
            "text/plain": [
              "True"
            ]
          },
          "metadata": {
            "tags": []
          },
          "execution_count": 36
        }
      ]
    },
    {
      "cell_type": "code",
      "metadata": {
        "colab": {
          "base_uri": "https://localhost:8080/"
        },
        "id": "1XWjPZak1KNN",
        "outputId": "35e7cd82-1c80-40ca-bb62-0fb25ac9b4c2"
      },
      "source": [
        "int(x==6)"
      ],
      "execution_count": 37,
      "outputs": [
        {
          "output_type": "execute_result",
          "data": {
            "text/plain": [
              "0"
            ]
          },
          "metadata": {
            "tags": []
          },
          "execution_count": 37
        }
      ]
    },
    {
      "cell_type": "code",
      "metadata": {
        "colab": {
          "base_uri": "https://localhost:8080/"
        },
        "id": "mRBV2U1R1LXN",
        "outputId": "8a21ec23-fc93-49d1-f829-895033eeedae"
      },
      "source": [
        "if x==9:\n",
        "  print(x)"
      ],
      "execution_count": 38,
      "outputs": [
        {
          "output_type": "stream",
          "text": [
            "9\n"
          ],
          "name": "stdout"
        }
      ]
    },
    {
      "cell_type": "code",
      "metadata": {
        "colab": {
          "base_uri": "https://localhost:8080/"
        },
        "id": "ddJfAd1m1Tn2",
        "outputId": "e8632cc1-bd1f-4ec2-9781-05739ada8365"
      },
      "source": [
        "if x==5:\n",
        "  print(x)\n",
        "else:\n",
        "  print(y)"
      ],
      "execution_count": 39,
      "outputs": [
        {
          "output_type": "stream",
          "text": [
            "4\n"
          ],
          "name": "stdout"
        }
      ]
    },
    {
      "cell_type": "code",
      "metadata": {
        "colab": {
          "base_uri": "https://localhost:8080/"
        },
        "id": "VYGTTUxK1aGs",
        "outputId": "bbaa7be5-df65-41f9-b62e-3e471cbb7e5b"
      },
      "source": [
        "if x==6:\n",
        "  print(x)\n",
        "elif x==7:\n",
        "  print(y)\n",
        "else:\n",
        "  print(z)"
      ],
      "execution_count": 42,
      "outputs": [
        {
          "output_type": "stream",
          "text": [
            "2\n"
          ],
          "name": "stdout"
        }
      ]
    },
    {
      "cell_type": "code",
      "metadata": {
        "id": "JkpRmxZg1vLg"
      },
      "source": [
        "\n",
        "\n"
      ],
      "execution_count": 42,
      "outputs": []
    },
    {
      "cell_type": "code",
      "metadata": {
        "colab": {
          "base_uri": "https://localhost:8080/"
        },
        "id": "r5NmZsls18FP",
        "outputId": "6df7a495-5a92-4162-cdab-4bbf560ef50d"
      },
      "source": [
        "if x==6:\n",
        "  print(x)\n",
        "elif x==9:\n",
        "  print(y)\n",
        "else:\n",
        "  print(z)"
      ],
      "execution_count": 43,
      "outputs": [
        {
          "output_type": "stream",
          "text": [
            "4\n"
          ],
          "name": "stdout"
        }
      ]
    },
    {
      "cell_type": "code",
      "metadata": {
        "id": "XHKJiyMv1-Jx"
      },
      "source": [
        "r,t,m=1,2,3 #tuple\n",
        "\n"
      ],
      "execution_count": 52,
      "outputs": []
    },
    {
      "cell_type": "code",
      "metadata": {
        "colab": {
          "base_uri": "https://localhost:8080/"
        },
        "id": "77EqVdub2Vkk",
        "outputId": "22443b86-8009-4fd2-edc6-dd6cdc26fef0"
      },
      "source": [
        "if r==1:\n",
        "  print(r)"
      ],
      "execution_count": 53,
      "outputs": [
        {
          "output_type": "stream",
          "text": [
            "1\n"
          ],
          "name": "stdout"
        }
      ]
    },
    {
      "cell_type": "code",
      "metadata": {
        "colab": {
          "base_uri": "https://localhost:8080/"
        },
        "id": "p_4vRF5_2djJ",
        "outputId": "fa51a948-8444-4bba-dfed-1d23b6c31259"
      },
      "source": [
        "if r==2:\n",
        "  print(r)\n",
        "else:\n",
        "  print(m)  \n"
      ],
      "execution_count": 54,
      "outputs": [
        {
          "output_type": "stream",
          "text": [
            "3\n"
          ],
          "name": "stdout"
        }
      ]
    },
    {
      "cell_type": "code",
      "metadata": {
        "colab": {
          "base_uri": "https://localhost:8080/"
        },
        "id": "iy3GtsPD25ap",
        "outputId": "cb968589-cd4c-4cd4-bfd9-3f3a8870581b"
      },
      "source": [
        "if r==3:\n",
        "  print(r)\n",
        "elif r==1:\n",
        "  print(m)\n",
        "else:\n",
        "  print(t)    "
      ],
      "execution_count": 55,
      "outputs": [
        {
          "output_type": "stream",
          "text": [
            "3\n"
          ],
          "name": "stdout"
        }
      ]
    },
    {
      "cell_type": "code",
      "metadata": {
        "colab": {
          "base_uri": "https://localhost:8080/"
        },
        "id": "oylh2pJ633td",
        "outputId": "0a4c28cc-767e-4366-867e-2ef7c12341ea"
      },
      "source": [
        "if r==7:\n",
        "  print(r)\n",
        "elif r==6:\n",
        "  print(m)\n",
        "else:\n",
        "  print(m)   "
      ],
      "execution_count": 59,
      "outputs": [
        {
          "output_type": "stream",
          "text": [
            "3\n"
          ],
          "name": "stdout"
        }
      ]
    },
    {
      "cell_type": "code",
      "metadata": {
        "id": "-aIvOGuv4Lso"
      },
      "source": [
        "nst=[1,2,3]\n",
        "for i in nst:\n",
        "  i\n"
      ],
      "execution_count": 65,
      "outputs": []
    },
    {
      "cell_type": "markdown",
      "metadata": {
        "id": "UvJI4-cY5dIe"
      },
      "source": [
        "since last wala line tab ke andr hai ishliye last line ko print krane ke liye print likhna jaruri hai"
      ]
    },
    {
      "cell_type": "code",
      "metadata": {
        "id": "GdcCtZed40jX"
      },
      "source": [
        ""
      ],
      "execution_count": null,
      "outputs": []
    },
    {
      "cell_type": "code",
      "metadata": {
        "colab": {
          "base_uri": "https://localhost:8080/"
        },
        "id": "3y2EPTNf5XmS",
        "outputId": "a4847d5f-3e9c-4601-ce21-15f58397f91c"
      },
      "source": [
        "nst=[1,2,3]\n",
        "for i in nst:\n",
        "  print(i)\n"
      ],
      "execution_count": 66,
      "outputs": [
        {
          "output_type": "stream",
          "text": [
            "1\n",
            "2\n",
            "3\n"
          ],
          "name": "stdout"
        }
      ]
    },
    {
      "cell_type": "code",
      "metadata": {
        "id": "uiBP0v5D5axT"
      },
      "source": [
        ""
      ],
      "execution_count": null,
      "outputs": []
    }
  ]
}