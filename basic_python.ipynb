{
  "nbformat": 4,
  "nbformat_minor": 0,
  "metadata": {
    "colab": {
      "name": "basic python.ipynb",
      "provenance": []
    },
    "kernelspec": {
      "name": "python3",
      "display_name": "Python 3"
    },
    "language_info": {
      "name": "python"
    }
  },
  "cells": [
    {
      "cell_type": "code",
      "metadata": {
        "id": "R69FnZDhOXc9"
      },
      "source": [
        ""
      ],
      "execution_count": null,
      "outputs": []
    },
    {
      "cell_type": "markdown",
      "metadata": {
        "id": "_wqz26Z4O2TT"
      },
      "source": [
        "Python is a cross-platform programming language, which means that it can run on multiple platforms like Windows, macOS, Linux, and has even been ported to the Java and .NET virtual machines. It is free and open-source.\n",
        "\n",
        "Even though most of today's Linux and Mac have Python pre-installed in it, the version might be out-of-date. So, it is always a good idea to install the most current version.\n",
        "\n"
      ]
    },
    {
      "cell_type": "code",
      "metadata": {
        "id": "FXh0M9-kP3mi"
      },
      "source": [
        ""
      ],
      "execution_count": null,
      "outputs": []
    },
    {
      "cell_type": "markdown",
      "metadata": {
        "id": "i2DoZPZKQfrY"
      },
      "source": [
        "# python keywords\n",
        "\n",
        "Keywords are the reserved words in Python.\n",
        "\n",
        "We cannot use a keyword as a variable name, function name or any other identifier. They are used to define the syntax and structure of the Python language.\n",
        "\n"
      ]
    },
    {
      "cell_type": "code",
      "metadata": {
        "id": "N24HXN32Qgyp"
      },
      "source": [
        ""
      ],
      "execution_count": null,
      "outputs": []
    },
    {
      "cell_type": "markdown",
      "metadata": {
        "id": "mQbBfb_0RsGh"
      },
      "source": [
        "# Python Identifiers\n",
        "An identifier is a name given to entities like class, functions, variables, etc. It helps to differentiate one entity from another.\n",
        "\n",
        "------------------------------\n",
        "\n",
        "# Rules for writing identifiers\n",
        "- Identifiers can be a combination of letters in lowercase (a to z) or uppercase (A to Z) or digits (0 to 9) or an underscore _. Names like myClass, var_1 and print_this_to_screen, all are valid example.\n",
        "- An identifier cannot start with a digit. 1variable is invalid, but variable1 is a valid name.\n",
        "- Keywords cannot be used as identifiers.\n",
        "      global = 1\n",
        "      Output\n",
        "        File \"<interactive input>\", line 1\n",
        "          global = 1\n",
        "                ^\n",
        "      SyntaxError: invalid syntax\n",
        "- We cannot use special symbols like !, @, #, $, % etc. in our identifier.\n",
        "      a@ = 0\n",
        "\n",
        "      Output\n",
        "        File \"<interactive input>\", line 1\n",
        "          a@ = 0\n",
        "          ^\n",
        "      SyntaxError: invalid syntax\n",
        "- An identifier can be of any length.\n"
      ]
    },
    {
      "cell_type": "code",
      "metadata": {
        "id": "k-DONF9zS0Fx"
      },
      "source": [
        ""
      ],
      "execution_count": null,
      "outputs": []
    },
    {
      "cell_type": "markdown",
      "metadata": {
        "id": "pgpalVh_TZPR"
      },
      "source": [
        "# Python Comments\n",
        "- Comments are very important while writing a program. They describe what is going on inside a program, so that a person looking at the source code does not have a hard time figuring it out.\n",
        "\n"
      ]
    },
    {
      "cell_type": "code",
      "metadata": {
        "id": "fi6Gp5p4UB6v"
      },
      "source": [
        ""
      ],
      "execution_count": null,
      "outputs": []
    },
    {
      "cell_type": "code",
      "metadata": {
        "colab": {
          "base_uri": "https://localhost:8080/"
        },
        "id": "Obp9VCskT42Y",
        "outputId": "6bc71962-7082-4c0b-e132-0c3edfc8947d"
      },
      "source": [
        "#This is a comment\n",
        "#print out Hello\n",
        "print('Hello')"
      ],
      "execution_count": null,
      "outputs": [
        {
          "output_type": "stream",
          "text": [
            "Hello\n"
          ],
          "name": "stdout"
        }
      ]
    },
    {
      "cell_type": "markdown",
      "metadata": {
        "id": "6zozkh8RUfbA"
      },
      "source": [
        "# MULTI-LINE COMMENTS\n",
        "## Another way of doing this is to use triple quotes, either ''' or \"\"\".\n",
        "\n",
        "These triple quotes are generally used for multi-line strings. But they can be used as a multi-line comment as well. Unless they are not docstrings, they do not generate any extra code.\n",
        "\n"
      ]
    },
    {
      "cell_type": "markdown",
      "metadata": {
        "id": "ZYFp0AW0T8vQ"
      },
      "source": [
        ""
      ]
    },
    {
      "cell_type": "code",
      "metadata": {
        "colab": {
          "base_uri": "https://localhost:8080/",
          "height": 35
        },
        "id": "RSjlt35PVDEQ",
        "outputId": "328f16cb-011b-4a4e-a965-55dc7aeefbec"
      },
      "source": [
        "\"\"\"This is also a\n",
        "perfect example of\n",
        "multi-line comments\"\"\"\n"
      ],
      "execution_count": null,
      "outputs": [
        {
          "output_type": "execute_result",
          "data": {
            "application/vnd.google.colaboratory.intrinsic+json": {
              "type": "string"
            },
            "text/plain": [
              "'This is also a\\nperfect example of\\nmulti-line comments'"
            ]
          },
          "metadata": {
            "tags": []
          },
          "execution_count": 6
        }
      ]
    },
    {
      "cell_type": "code",
      "metadata": {
        "colab": {
          "base_uri": "https://localhost:8080/",
          "height": 35
        },
        "id": "BmN4xPl0VERP",
        "outputId": "7b3e035f-9aef-4244-9b34-9b0f793d3426"
      },
      "source": [
        "'''hi i am am amit\n",
        "musician'''"
      ],
      "execution_count": null,
      "outputs": [
        {
          "output_type": "execute_result",
          "data": {
            "application/vnd.google.colaboratory.intrinsic+json": {
              "type": "string"
            },
            "text/plain": [
              "'hi i am am amit\\nmusician'"
            ]
          },
          "metadata": {
            "tags": []
          },
          "execution_count": 8
        }
      ]
    },
    {
      "cell_type": "code",
      "metadata": {
        "colab": {
          "base_uri": "https://localhost:8080/"
        },
        "id": "NTrAgFuGXRp3",
        "outputId": "c17b40d2-f2ad-4d82-80c7-782036f8e322"
      },
      "source": [
        "website = \"apple.com\"\n",
        "print(website)\n",
        "type(website)\n",
        "print(website)               "
      ],
      "execution_count": null,
      "outputs": [
        {
          "output_type": "stream",
          "text": [
            "apple.com\n"
          ],
          "name": "stdout"
        },
        {
          "output_type": "execute_result",
          "data": {
            "text/plain": [
              "str"
            ]
          },
          "metadata": {
            "tags": []
          },
          "execution_count": 18
        }
      ]
    },
    {
      "cell_type": "markdown",
      "metadata": {
        "id": "bDiBjQsfZXEH"
      },
      "source": [
        "imp points"
      ]
    },
    {
      "cell_type": "code",
      "metadata": {
        "colab": {
          "base_uri": "https://localhost:8080/"
        },
        "id": "x3jFn1LPXTUS",
        "outputId": "4060e88f-4e70-4db0-a17d-4501f5d6ca28"
      },
      "source": [
        "type(website)"
      ],
      "execution_count": null,
      "outputs": [
        {
          "output_type": "execute_result",
          "data": {
            "text/plain": [
              "str"
            ]
          },
          "metadata": {
            "tags": []
          },
          "execution_count": 10
        }
      ]
    },
    {
      "cell_type": "code",
      "metadata": {
        "id": "o7ICoQkdXh5V"
      },
      "source": [
        "a=7"
      ],
      "execution_count": null,
      "outputs": []
    },
    {
      "cell_type": "code",
      "metadata": {
        "colab": {
          "base_uri": "https://localhost:8080/"
        },
        "id": "7LF1quPBYAE2",
        "outputId": "878c55f7-a717-4687-e063-8d76ea57ff85"
      },
      "source": [
        "a"
      ],
      "execution_count": null,
      "outputs": [
        {
          "output_type": "execute_result",
          "data": {
            "text/plain": [
              "7"
            ]
          },
          "metadata": {
            "tags": []
          },
          "execution_count": 12
        }
      ]
    },
    {
      "cell_type": "code",
      "metadata": {
        "colab": {
          "base_uri": "https://localhost:8080/"
        },
        "id": "FMuhjhZwYCWg",
        "outputId": "dde2e0f9-6ac6-4cb1-f80b-085e4f890738"
      },
      "source": [
        "type(a)"
      ],
      "execution_count": null,
      "outputs": [
        {
          "output_type": "execute_result",
          "data": {
            "text/plain": [
              "int"
            ]
          },
          "metadata": {
            "tags": []
          },
          "execution_count": 15
        }
      ]
    },
    {
      "cell_type": "code",
      "metadata": {
        "id": "bAPZuJV2YOYT"
      },
      "source": [
        "a=4.3\n"
      ],
      "execution_count": null,
      "outputs": []
    },
    {
      "cell_type": "code",
      "metadata": {
        "colab": {
          "base_uri": "https://localhost:8080/"
        },
        "id": "sNgZJZ-gYcvg",
        "outputId": "f3f4242b-1b22-406a-a636-ed8d27083fd1"
      },
      "source": [
        "a"
      ],
      "execution_count": null,
      "outputs": [
        {
          "output_type": "execute_result",
          "data": {
            "text/plain": [
              "4.3"
            ]
          },
          "metadata": {
            "tags": []
          },
          "execution_count": 17
        }
      ]
    },
    {
      "cell_type": "code",
      "metadata": {
        "id": "mlJQGkf6Ydh1"
      },
      "source": [
        ""
      ],
      "execution_count": null,
      "outputs": []
    },
    {
      "cell_type": "markdown",
      "metadata": {
        "id": "QaT0fZOHag82"
      },
      "source": [
        "# important points\n",
        "- code ko copy krne ke baad agr hum enter press krein to code remove ho jaata hai\n",
        "\n",
        "- aur undo hoga  ctrl+z se     "
      ]
    },
    {
      "cell_type": "code",
      "metadata": {
        "id": "1iC-mDd9bF62"
      },
      "source": [
        "link = 'https://wa.me/91'"
      ],
      "execution_count": null,
      "outputs": []
    },
    {
      "cell_type": "code",
      "metadata": {
        "colab": {
          "base_uri": "https://localhost:8080/",
          "height": 35
        },
        "id": "qCcG2bd4b2Lb",
        "outputId": "d00c585f-9207-48fa-eda4-99003912dfb1"
      },
      "source": [
        "link"
      ],
      "execution_count": null,
      "outputs": [
        {
          "output_type": "execute_result",
          "data": {
            "application/vnd.google.colaboratory.intrinsic+json": {
              "type": "string"
            },
            "text/plain": [
              "'https://wa.me/91'"
            ]
          },
          "metadata": {
            "tags": []
          },
          "execution_count": 20
        }
      ]
    },
    {
      "cell_type": "code",
      "metadata": {
        "id": "pmuaOHiab29T"
      },
      "source": [
        "ph_no = '7378012451'"
      ],
      "execution_count": null,
      "outputs": []
    },
    {
      "cell_type": "code",
      "metadata": {
        "colab": {
          "base_uri": "https://localhost:8080/",
          "height": 35
        },
        "id": "zBU4GRyVb-qb",
        "outputId": "835492b2-3f79-4727-e8f9-aa05982b1905"
      },
      "source": [
        "ph_no"
      ],
      "execution_count": null,
      "outputs": [
        {
          "output_type": "execute_result",
          "data": {
            "application/vnd.google.colaboratory.intrinsic+json": {
              "type": "string"
            },
            "text/plain": [
              "'7378012451'"
            ]
          },
          "metadata": {
            "tags": []
          },
          "execution_count": 22
        }
      ]
    },
    {
      "cell_type": "code",
      "metadata": {
        "id": "pECNkQTcb_tf"
      },
      "source": [
        "whatsapp = link + ph_no"
      ],
      "execution_count": null,
      "outputs": []
    },
    {
      "cell_type": "code",
      "metadata": {
        "colab": {
          "base_uri": "https://localhost:8080/"
        },
        "id": "O1Yp3NivcGfL",
        "outputId": "8eec98aa-a352-4057-be6d-b820bd3e2d15"
      },
      "source": [
        "print(whatsapp)"
      ],
      "execution_count": null,
      "outputs": [
        {
          "output_type": "stream",
          "text": [
            "https://wa.me/917378012451\n"
          ],
          "name": "stdout"
        }
      ]
    },
    {
      "cell_type": "code",
      "metadata": {
        "id": "7_JpyWslcI5s"
      },
      "source": [
        ""
      ],
      "execution_count": null,
      "outputs": []
    }
  ]
}